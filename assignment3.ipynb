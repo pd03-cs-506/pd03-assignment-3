{
 "cells": [
  {
   "cell_type": "markdown",
   "id": "245217cc",
   "metadata": {},
   "source": [
    "# Assignment: SVD Preprocessing on MNIST with Logistic Regression"
   ]
  },
  {
   "cell_type": "markdown",
   "id": "deffa444",
   "metadata": {},
   "source": [
    "## Instructions:\n",
    "In this assignment, you will apply **Singular Value Decomposition (SVD)** as a preprocessing step to the **MNIST dataset** and train a **logistic regression classifier**. You will compare the model performance and training time when using different levels of SVD for dimensionality reduction.\n",
    "\n",
    "In this assignment, you will need to:\n",
    "1. Load the MNIST dataset and normalize it.\n",
    "2. Perform SVD and reduce the dimensions of the data.\n",
    "3. Train a logistic regression model on the original and SVD-reduced data.\n",
    "4. Measure and compare the training time and accuracy of the model with varying SVD components.\n",
    "5. Plot the results and analyze how SVD impacts the performance and efficiency of the model.\n",
    "\n",
    "***\n",
    "Your tasks include:\n",
    "1. Implement SVD algorithm. You are not allowed to directly use SVD implemented by other packages, but you may use functions in NumPy. (Part 2)\n",
    "2. Explore the accuracy and time performance from different numbers of SVD components. (Part 4)\n",
    "3. Visualize the accuracy, time performance and top 5 singular vectors in the dataset, analyze and explain which number of SVD component looks best to you? (Part 4,5&6) Hint: singular vectors should be reshaped to 28x28 images for visualization.\n",
    "***\n",
    "**Note that you may not import any other function or package.** Let's get started!\n"
   ]
  },
  {
   "cell_type": "markdown",
   "id": "b3e10cb3",
   "metadata": {},
   "source": [
    "## Part 1: Load the MNIST dataset and preprocess the data"
   ]
  },
  {
   "cell_type": "code",
   "execution_count": 3,
   "id": "79f2d907",
   "metadata": {},
   "outputs": [
    {
     "name": "stdout",
     "output_type": "stream",
     "text": [
      "Loading MNIST dataset...\n"
     ]
    }
   ],
   "source": [
    "import numpy as np\n",
    "import matplotlib.pyplot as plt\n",
    "import time\n",
    "from sklearn.linear_model import LogisticRegression\n",
    "from sklearn.model_selection import train_test_split\n",
    "from sklearn.datasets import fetch_openml\n",
    "from sklearn.metrics import accuracy_score, classification_report\n",
    "\n",
    "# Load MNIST dataset\n",
    "print(\"Loading MNIST dataset...\")\n",
    "mnist = fetch_openml('mnist_784', version=1)\n",
    "\n",
    "# Each pixel is value from 0 to 255 (black to white)\n",
    "X = mnist.data\n",
    "y = mnist.target\n",
    "\n",
    "# Normalize the data to values between 0 and 1\n",
    "X = X / 255.0\n",
    "\n",
    "# Split into training and test sets\n",
    "X_train, X_test, y_train, y_test = train_test_split(X, y, test_size=0.2, random_state=42)\n"
   ]
  },
  {
   "cell_type": "markdown",
   "id": "28b8572d",
   "metadata": {},
   "source": [
    "## Part 2: Implement SVD for Dimensionality Reduction"
   ]
  },
  {
   "cell_type": "code",
   "execution_count": 4,
   "id": "fc950aa8",
   "metadata": {},
   "outputs": [],
   "source": [
    "def get_A_t_A(dataset):\n",
    "    A_transpose = np.transpose(dataset)\n",
    "    A_t_A = np.dot(A_transpose, dataset)\n",
    "    return A_t_A\n"
   ]
  },
  {
   "cell_type": "code",
   "execution_count": 6,
   "id": "97a04abe",
   "metadata": {},
   "outputs": [],
   "source": [
    "def get_s_matrix(A_t_A):\n",
    "    # get eigenvalues of A^T A\n",
    "    eigenvalues, _ = np.linalg.eig(A_t_A)\n",
    "\n",
    "    # sort eigenvalues in descending order\n",
    "    eigenvalues_desc = np.sort(eigenvalues)[::-1]\n",
    "\n",
    "    # ensure all eigenvalues are non-negative (take absolute value to avoid numerical issues)\n",
    "    eigenvalues_desc = np.real(eigenvalues_desc)\n",
    "    eigenvalues_desc = np.where(eigenvalues_desc < 0, 0, eigenvalues_desc)  # Set negative values to 0\n",
    "\n",
    "    # set a tolerance to filter out very small eigenvalues\n",
    "    tolerance = 1e-10\n",
    "    eigenvalues_desc = np.where(eigenvalues_desc < tolerance, 0, eigenvalues_desc)\n",
    "\n",
    "    # take square root of eigenvalues to get singular values\n",
    "    singular_values = np.sqrt(eigenvalues_desc)\n",
    "\n",
    "    # # place in diagonal matrix\n",
    "    # s_matrix = np.diag(singular_values) # this did not do what I thought it did\n",
    "\n",
    "    # place in diagonal matrix\n",
    "    s_dim = len(singular_values)\n",
    "    s_matrix = np.zeros((s_dim, s_dim), int)\n",
    "    # print(f\"0 square matrix: {s_matrix}\")\n",
    "\n",
    "    np.fill_diagonal(s_matrix, singular_values)\n",
    "\n",
    "    # print(f\"s matrix: {s_matrix}\")\n",
    "\n",
    "    # for i in range(len(singular_values)):\n",
    "    #     s_matrix[i][i] = singular_values[i]\n",
    "\n",
    "    return (s_matrix)\n"
   ]
  },
  {
   "cell_type": "code",
   "execution_count": 7,
   "id": "78662c47",
   "metadata": {},
   "outputs": [],
   "source": [
    "def get_V_t_matrix(A_t_A):\n",
    "    # Compute eigenvalues and eigenvectors of A_t_A\n",
    "    eigenvalues, eigenvectors = np.linalg.eig(A_t_A)\n",
    "\n",
    "    # Get index of descending eigenvalues\n",
    "    indx_desc = np.argsort(eigenvalues)[::-1]\n",
    "\n",
    "    # Sort eigenvectors in the same order as descending eigenvalues\n",
    "    v_matrix = eigenvectors[:, indx_desc]\n",
    "\n",
    "    # Ensure that only the real part is kept to avoid complex numbers\n",
    "    v_matrix = np.real(v_matrix)\n",
    "\n",
    "    # Transpose the matrix to get V^T\n",
    "    v_matrix_transpose = np.transpose(v_matrix)\n",
    "    \n",
    "    return v_matrix_transpose\n"
   ]
  },
  {
   "cell_type": "code",
   "execution_count": 8,
   "id": "b82a0e51",
   "metadata": {},
   "outputs": [],
   "source": [
    "# X_train is 56000 × 784\n",
    "def get_U_matrix(dataset, V_t, S):\n",
    "    # U = A * V * S_inv\n",
    "    S_inv = np.linalg.pinv(S) \n",
    "    U_matrix = np.dot(dataset, np.dot(np.transpose(V_t), S_inv))\n",
    "    \n",
    "    return U_matrix\n"
   ]
  },
  {
   "cell_type": "code",
   "execution_count": 9,
   "id": "2bf22296",
   "metadata": {},
   "outputs": [],
   "source": [
    "# returns components U, S, and V^T\n",
    "def get_svd(dataset, n_components):\n",
    "    A_t_A = get_A_t_A(dataset)\n",
    "\n",
    "    # get first n columns of S\n",
    "    S_matrix = get_s_matrix(A_t_A)\n",
    "    # S_reduced = S_matrix[:,:n_components]\n",
    "    S_reduced_values = np.diag(S_matrix[:n_components])\n",
    "    new_dims = len(S_reduced_values)\n",
    "    S_reduced = np.zeros((new_dims, new_dims), int)\n",
    "    np.fill_diagonal(S_reduced, S_reduced_values)\n",
    "\n",
    "    # select first n rows\n",
    "    V_t_matrix = get_V_t_matrix(A_t_A)\n",
    "    V_t_reduced = V_t_matrix[:n_components, :]\n",
    "\n",
    "    # select first n columns\n",
    "    U_matrix = get_U_matrix(dataset, V_t_matrix, S_matrix)[:,:n_components]\n",
    "\n",
    "    # print(f\"{dataset} = \\n{U_matrix} * \\n{S_reduced} * \\n{V_t_matrix} \")\n",
    "    return U_matrix, S_reduced, V_t_reduced"
   ]
  },
  {
   "cell_type": "code",
   "execution_count": 10,
   "id": "b3bd59f3",
   "metadata": {},
   "outputs": [],
   "source": [
    "# A = USV^T\n",
    "def apply_svd_custom(X_train, X_test, n_components):\n",
    "    U_train, S_train, Vt_train = get_svd(X_train, n_components)\n",
    "    U_test, S_test, Vt_test = get_svd(X_test, n_components)\n",
    "\n",
    "    # dimenson mismatch issues?? \n",
    "    print(f\"U_train dims are: {U_train.shape}\\nS_train dims are {S_train.shape}\\nVt_train dims are {Vt_train.shape}\")\n",
    "    train_reduced = np.dot(U_train, np.dot(S_train, Vt_train))\n",
    "    test_reduced = np.dot(U_test, np.dot(S_test, Vt_test))\n",
    "\n",
    "    return train_reduced, test_reduced"
   ]
  },
  {
   "cell_type": "markdown",
   "id": "eb2a7a9d",
   "metadata": {},
   "source": [
    "## Part 3: Train Logistic Regression and Measure Performance"
   ]
  },
  {
   "cell_type": "code",
   "execution_count": 11,
   "id": "dbfc0b10",
   "metadata": {},
   "outputs": [],
   "source": [
    "# Function to train logistic regression and track training time\n",
    "def train_logistic_regression(X_train, y_train, X_test, y_test):\n",
    "    model = LogisticRegression(max_iter=1000, solver='saga', random_state=42, multi_class='multinomial')\n",
    "    \n",
    "    # Measure training time\n",
    "    start_time = time.time()\n",
    "    model.fit(X_train, y_train)\n",
    "    training_time = time.time() - start_time\n",
    "    \n",
    "    y_pred = model.predict(X_test)\n",
    "    accuracy = accuracy_score(y_test, y_pred)\n",
    "    \n",
    "    return accuracy, training_time\n"
   ]
  },
  {
   "cell_type": "markdown",
   "id": "2e557a05",
   "metadata": {},
   "source": [
    "## Part 4: Experiment with Different Levels of SVD\n",
    "\n",
    "Now, apply SVD with varying numbers of components and observe how the dimensionality reduction impacts the model's performance. Record both the accuracy and training time for each number of components.\n"
   ]
  },
  {
   "cell_type": "code",
   "execution_count": 13,
   "id": "80c62b13",
   "metadata": {},
   "outputs": [
    {
     "name": "stdout",
     "output_type": "stream",
     "text": [
      "Training models with different levels of SVD preprocessing...\n",
      "Applying custom SVD with 2 components...\n",
      "U_train dims are: (56000, 2)\n",
      "S_train dims are (2, 2)\n",
      "Vt_train dims are (2, 784)\n"
     ]
    },
    {
     "name": "stderr",
     "output_type": "stream",
     "text": [
      "/opt/homebrew/lib/python3.10/site-packages/sklearn/linear_model/_logistic.py:1247: FutureWarning: 'multi_class' was deprecated in version 1.5 and will be removed in 1.7. From then on, it will always use 'multinomial'. Leave it to its default value to avoid this warning.\n",
      "  warnings.warn(\n"
     ]
    },
    {
     "name": "stdout",
     "output_type": "stream",
     "text": [
      "SVD components: 2, Accuracy: 0.3433, Training time: 9.7377 seconds\n",
      "Applying custom SVD with 4 components...\n",
      "U_train dims are: (56000, 4)\n",
      "S_train dims are (4, 4)\n",
      "Vt_train dims are (4, 784)\n"
     ]
    },
    {
     "name": "stderr",
     "output_type": "stream",
     "text": [
      "/opt/homebrew/lib/python3.10/site-packages/sklearn/linear_model/_logistic.py:1247: FutureWarning: 'multi_class' was deprecated in version 1.5 and will be removed in 1.7. From then on, it will always use 'multinomial'. Leave it to its default value to avoid this warning.\n",
      "  warnings.warn(\n"
     ]
    },
    {
     "name": "stdout",
     "output_type": "stream",
     "text": [
      "SVD components: 4, Accuracy: 0.5361, Training time: 10.3582 seconds\n",
      "Applying custom SVD with 16 components...\n",
      "U_train dims are: (56000, 16)\n",
      "S_train dims are (16, 16)\n",
      "Vt_train dims are (16, 784)\n"
     ]
    },
    {
     "name": "stderr",
     "output_type": "stream",
     "text": [
      "/opt/homebrew/lib/python3.10/site-packages/sklearn/linear_model/_logistic.py:1247: FutureWarning: 'multi_class' was deprecated in version 1.5 and will be removed in 1.7. From then on, it will always use 'multinomial'. Leave it to its default value to avoid this warning.\n",
      "  warnings.warn(\n"
     ]
    },
    {
     "name": "stdout",
     "output_type": "stream",
     "text": [
      "SVD components: 16, Accuracy: 0.8530, Training time: 12.7931 seconds\n",
      "Applying custom SVD with 32 components...\n",
      "U_train dims are: (56000, 32)\n",
      "S_train dims are (32, 32)\n",
      "Vt_train dims are (32, 784)\n"
     ]
    },
    {
     "name": "stderr",
     "output_type": "stream",
     "text": [
      "/opt/homebrew/lib/python3.10/site-packages/sklearn/linear_model/_logistic.py:1247: FutureWarning: 'multi_class' was deprecated in version 1.5 and will be removed in 1.7. From then on, it will always use 'multinomial'. Leave it to its default value to avoid this warning.\n",
      "  warnings.warn(\n"
     ]
    },
    {
     "name": "stdout",
     "output_type": "stream",
     "text": [
      "SVD components: 32, Accuracy: 0.8979, Training time: 32.1450 seconds\n",
      "Applying custom SVD with 64 components...\n",
      "U_train dims are: (56000, 64)\n",
      "S_train dims are (64, 64)\n",
      "Vt_train dims are (64, 784)\n"
     ]
    },
    {
     "name": "stderr",
     "output_type": "stream",
     "text": [
      "/opt/homebrew/lib/python3.10/site-packages/sklearn/linear_model/_logistic.py:1247: FutureWarning: 'multi_class' was deprecated in version 1.5 and will be removed in 1.7. From then on, it will always use 'multinomial'. Leave it to its default value to avoid this warning.\n",
      "  warnings.warn(\n"
     ]
    },
    {
     "name": "stdout",
     "output_type": "stream",
     "text": [
      "SVD components: 64, Accuracy: 0.9137, Training time: 92.4545 seconds\n",
      "Applying custom SVD with 128 components...\n",
      "U_train dims are: (56000, 128)\n",
      "S_train dims are (128, 128)\n",
      "Vt_train dims are (128, 784)\n"
     ]
    },
    {
     "name": "stderr",
     "output_type": "stream",
     "text": [
      "/opt/homebrew/lib/python3.10/site-packages/sklearn/linear_model/_logistic.py:1247: FutureWarning: 'multi_class' was deprecated in version 1.5 and will be removed in 1.7. From then on, it will always use 'multinomial'. Leave it to its default value to avoid this warning.\n",
      "  warnings.warn(\n"
     ]
    },
    {
     "name": "stdout",
     "output_type": "stream",
     "text": [
      "SVD components: 128, Accuracy: 0.9195, Training time: 222.3387 seconds\n",
      "Applying custom SVD with 256 components...\n",
      "U_train dims are: (56000, 256)\n",
      "S_train dims are (256, 256)\n",
      "Vt_train dims are (256, 784)\n"
     ]
    },
    {
     "name": "stderr",
     "output_type": "stream",
     "text": [
      "/opt/homebrew/lib/python3.10/site-packages/sklearn/linear_model/_logistic.py:1247: FutureWarning: 'multi_class' was deprecated in version 1.5 and will be removed in 1.7. From then on, it will always use 'multinomial'. Leave it to its default value to avoid this warning.\n",
      "  warnings.warn(\n"
     ]
    },
    {
     "name": "stdout",
     "output_type": "stream",
     "text": [
      "SVD components: 256, Accuracy: 0.9214, Training time: 261.8107 seconds\n",
      "Applying custom SVD with 384 components...\n",
      "U_train dims are: (56000, 384)\n",
      "S_train dims are (384, 384)\n",
      "Vt_train dims are (384, 784)\n"
     ]
    },
    {
     "name": "stderr",
     "output_type": "stream",
     "text": [
      "/opt/homebrew/lib/python3.10/site-packages/sklearn/linear_model/_logistic.py:1247: FutureWarning: 'multi_class' was deprecated in version 1.5 and will be removed in 1.7. From then on, it will always use 'multinomial'. Leave it to its default value to avoid this warning.\n",
      "  warnings.warn(\n"
     ]
    },
    {
     "name": "stdout",
     "output_type": "stream",
     "text": [
      "SVD components: 384, Accuracy: 0.9195, Training time: 260.0073 seconds\n",
      "Applying custom SVD with 512 components...\n",
      "U_train dims are: (56000, 512)\n",
      "S_train dims are (512, 512)\n",
      "Vt_train dims are (512, 784)\n"
     ]
    },
    {
     "name": "stderr",
     "output_type": "stream",
     "text": [
      "/opt/homebrew/lib/python3.10/site-packages/sklearn/linear_model/_logistic.py:1247: FutureWarning: 'multi_class' was deprecated in version 1.5 and will be removed in 1.7. From then on, it will always use 'multinomial'. Leave it to its default value to avoid this warning.\n",
      "  warnings.warn(\n"
     ]
    },
    {
     "name": "stdout",
     "output_type": "stream",
     "text": [
      "SVD components: 512, Accuracy: 0.9206, Training time: 298.7577 seconds\n",
      "Applying custom SVD with 646 components...\n",
      "U_train dims are: (56000, 646)\n",
      "S_train dims are (646, 646)\n",
      "Vt_train dims are (646, 784)\n"
     ]
    },
    {
     "name": "stderr",
     "output_type": "stream",
     "text": [
      "/opt/homebrew/lib/python3.10/site-packages/sklearn/linear_model/_logistic.py:1247: FutureWarning: 'multi_class' was deprecated in version 1.5 and will be removed in 1.7. From then on, it will always use 'multinomial'. Leave it to its default value to avoid this warning.\n",
      "  warnings.warn(\n"
     ]
    },
    {
     "name": "stdout",
     "output_type": "stream",
     "text": [
      "SVD components: 646, Accuracy: 0.9209, Training time: 322.1654 seconds\n",
      "Applying custom SVD with 780 components...\n",
      "U_train dims are: (56000, 780)\n",
      "S_train dims are (780, 780)\n",
      "Vt_train dims are (780, 784)\n"
     ]
    },
    {
     "name": "stderr",
     "output_type": "stream",
     "text": [
      "/opt/homebrew/lib/python3.10/site-packages/sklearn/linear_model/_logistic.py:1247: FutureWarning: 'multi_class' was deprecated in version 1.5 and will be removed in 1.7. From then on, it will always use 'multinomial'. Leave it to its default value to avoid this warning.\n",
      "  warnings.warn(\n"
     ]
    },
    {
     "name": "stdout",
     "output_type": "stream",
     "text": [
      "SVD components: 780, Accuracy: 0.9209, Training time: 318.9944 seconds\n"
     ]
    }
   ],
   "source": [
    "import csv\n",
    "\n",
    "svd_components = [2, 4, 16, 32, 64, 128, 256, 384, 512, 646, 780]\n",
    "\n",
    "# Store the results\n",
    "results = []\n",
    "\n",
    "print(\"Training models with different levels of SVD preprocessing...\")\n",
    "for n_components in svd_components:\n",
    "    print(f\"Applying custom SVD with {n_components} components...\")\n",
    "    \n",
    "    # Apply SVD to the training and test sets\n",
    "    # Call apply_svd_custom() here...\n",
    "    X_train_svd, X_test_svd  = apply_svd_custom(X_train, X_test, n_components)\n",
    "    \n",
    "    # Train the logistic regression model and get accuracy and training time\n",
    "    accuracy, training_time = train_logistic_regression(X_train_svd, y_train, X_test_svd, y_test)\n",
    "\n",
    "    results.append([accuracy, training_time])\n",
    "    # save so i don't have to do it again\n",
    "    with open(\"results.csv\", mode='a', newline='') as file:\n",
    "            writer = csv.writer(file)\n",
    "            writer.writerow([n_components, accuracy, training_time])\n",
    "    \n",
    "    print(f\"SVD components: {n_components}, Accuracy: {accuracy:.4f}, Training time: {training_time:.4f} seconds\")\n"
   ]
  },
  {
   "cell_type": "markdown",
   "id": "ea7aca12",
   "metadata": {},
   "source": [
    "## Part 5: Visualize and Analyze the Results\n",
    "\n",
    "Finally, plot the accuracy, training time as a function of the number of SVD components, and top 5 singular vectors. This will help you understand the trade-off between dimensionality reduction, accuracy, and model training time, and how SVD generally works. Hint: singular vectors should be reshaped to 28x28 images for visualization.\n"
   ]
  },
  {
   "cell_type": "code",
   "execution_count": 50,
   "id": "92ef0497",
   "metadata": {},
   "outputs": [
    {
     "data": {
      "image/png": "[encoded data removed]",
      "text/plain": [
       "<Figure size 640x480 with 2 Axes>"
      ]
     },
     "metadata": {},
     "output_type": "display_data"
    }
   ],
   "source": [
    "## Your implementation here...\n",
    "## You may add necessary lines in Part 4 to access data for visualization\n",
    "import pandas as pd\n",
    "import matplotlib.pyplot as plt \n",
    "\n",
    "results = pd.read_csv(\"results.csv\")\n",
    "results \n",
    "\n",
    "fig, ax1 = plt.subplots()\n",
    "\n",
    "ax1.scatter(x=results['n_components'], y=results['accuracy'], s=20, color='blue', label='accuracy')\n",
    "ax1.set_xlabel('n_components')\n",
    "ax1.set_ylabel('Accuracy')\n",
    "ax1.tick_params(axis='y')\n",
    "\n",
    "ax2 = ax1.twinx()\n",
    "ax2.scatter(x=results['n_components'], y=results['training_time'], s=20, color='red', label='training time')\n",
    "ax2.set_ylabel('Training Time')\n",
    "ax2.tick_params(axis='y')\n",
    "\n",
    "# ax1.legend(loc='upper left', bbox_to_anchor=(1, 1))\n",
    "# ax2.legend(loc='upper right', bbox_to_anchor=(1, 1))\n",
    "fig.tight_layout()\n",
    "\n",
    "# RED is training time\n",
    "# BLUE is accuracy\n",
    "# sorry i can't figure out how to not make the legends overlap\n"
   ]
  },
  {
   "cell_type": "markdown",
   "id": "88aae926",
   "metadata": {},
   "source": [
    "### First five rows of the dataset at the various svd ranks I tested:"
   ]
  },
  {
   "cell_type": "code",
   "execution_count": 56,
   "id": "a4ab6f29",
   "metadata": {},
   "outputs": [
    {
     "name": "stdout",
     "output_type": "stream",
     "text": [
      "U_train dims are: (56000, 780)\n",
      "S_train dims are (780, 780)\n",
      "Vt_train dims are (780, 784)\n"
     ]
    },
    {
     "data": {
      "image/png": "[encoded data removed]",
      "text/plain": [
       "<Figure size 1000x200 with 5 Axes>"
      ]
     },
     "metadata": {},
     "output_type": "display_data"
    }
   ],
   "source": [
    "n_components = 780\n",
    "\n",
    "X_train_svd, X_test_svd  = apply_svd_custom(X_train, X_test, n_components)\n",
    "first_five_images = X_train_svd[:5]\n",
    "\n",
    "fig, axes = plt.subplots(1, 5, figsize=(10, 2))\n",
    "for i in range(5):\n",
    "    image = np.array(first_five_images[i]).reshape(28, 28)\n",
    "    \n",
    "    axes[i].imshow(image)\n",
    "    axes[i].axis('off')\n",
    "\n",
    "plt.show()"
   ]
  },
  {
   "cell_type": "code",
   "execution_count": 57,
   "id": "30aa47fe",
   "metadata": {},
   "outputs": [
    {
     "name": "stdout",
     "output_type": "stream",
     "text": [
      "U_train dims are: (56000, 646)\n",
      "S_train dims are (646, 646)\n",
      "Vt_train dims are (646, 784)\n"
     ]
    },
    {
     "data": {
      "image/png": "[encoded data removed]",
      "text/plain": [
       "<Figure size 1000x200 with 5 Axes>"
      ]
     },
     "metadata": {},
     "output_type": "display_data"
    }
   ],
   "source": [
    "n_components = 646\n",
    "\n",
    "X_train_svd, X_test_svd  = apply_svd_custom(X_train, X_test, n_components)\n",
    "first_five_images = X_train_svd[:5]\n",
    "\n",
    "fig, axes = plt.subplots(1, 5, figsize=(10, 2))\n",
    "for i in range(5):\n",
    "    image = np.array(first_five_images[i]).reshape(28, 28)\n",
    "    \n",
    "    axes[i].imshow(image)\n",
    "    axes[i].axis('off')\n",
    "\n",
    "plt.show()"
   ]
  },
  {
   "cell_type": "code",
   "execution_count": 58,
   "id": "8322f2ab",
   "metadata": {},
   "outputs": [
    {
     "name": "stdout",
     "output_type": "stream",
     "text": [
      "U_train dims are: (56000, 512)\n",
      "S_train dims are (512, 512)\n",
      "Vt_train dims are (512, 784)\n"
     ]
    },
    {
     "data": {
      "image/png": "[encoded data removed]",
      "text/plain": [
       "<Figure size 1000x200 with 5 Axes>"
      ]
     },
     "metadata": {},
     "output_type": "display_data"
    }
   ],
   "source": [
    "n_components = 512\n",
    "\n",
    "X_train_svd, X_test_svd  = apply_svd_custom(X_train, X_test, n_components)\n",
    "first_five_images = X_train_svd[:5]\n",
    "\n",
    "fig, axes = plt.subplots(1, 5, figsize=(10, 2))\n",
    "for i in range(5):\n",
    "    image = np.array(first_five_images[i]).reshape(28, 28)\n",
    "    \n",
    "    axes[i].imshow(image)\n",
    "    axes[i].axis('off')\n",
    "\n",
    "plt.show()"
   ]
  },
  {
   "cell_type": "code",
   "execution_count": 59,
   "id": "5f1936e3",
   "metadata": {},
   "outputs": [
    {
     "name": "stdout",
     "output_type": "stream",
     "text": [
      "U_train dims are: (56000, 384)\n",
      "S_train dims are (384, 384)\n",
      "Vt_train dims are (384, 784)\n"
     ]
    },
    {
     "data": {
      "image/png": "[encoded data removed]",
      "text/plain": [
       "<Figure size 1000x200 with 5 Axes>"
      ]
     },
     "metadata": {},
     "output_type": "display_data"
    }
   ],
   "source": [
    "n_components = 384\n",
    "\n",
    "X_train_svd, X_test_svd  = apply_svd_custom(X_train, X_test, n_components)\n",
    "first_five_images = X_train_svd[:5]\n",
    "\n",
    "fig, axes = plt.subplots(1, 5, figsize=(10, 2))\n",
    "for i in range(5):\n",
    "    image = np.array(first_five_images[i]).reshape(28, 28)\n",
    "    \n",
    "    axes[i].imshow(image)\n",
    "    axes[i].axis('off')\n",
    "\n",
    "plt.show()"
   ]
  },
  {
   "cell_type": "code",
   "execution_count": 60,
   "id": "600acbd1",
   "metadata": {},
   "outputs": [
    {
     "name": "stdout",
     "output_type": "stream",
     "text": [
      "U_train dims are: (56000, 256)\n",
      "S_train dims are (256, 256)\n",
      "Vt_train dims are (256, 784)\n"
     ]
    },
    {
     "data": {
      "image/png": "[encoded data removed]",
      "text/plain": [
       "<Figure size 1000x200 with 5 Axes>"
      ]
     },
     "metadata": {},
     "output_type": "display_data"
    }
   ],
   "source": [
    "n_components = 256\n",
    "\n",
    "X_train_svd, X_test_svd  = apply_svd_custom(X_train, X_test, n_components)\n",
    "first_five_images = X_train_svd[:5]\n",
    "\n",
    "fig, axes = plt.subplots(1, 5, figsize=(10, 2))\n",
    "for i in range(5):\n",
    "    image = np.array(first_five_images[i]).reshape(28, 28)\n",
    "    \n",
    "    axes[i].imshow(image)\n",
    "    axes[i].axis('off')\n",
    "\n",
    "plt.show()"
   ]
  },
  {
   "cell_type": "code",
   "execution_count": 61,
   "id": "66f80073",
   "metadata": {},
   "outputs": [
    {
     "name": "stdout",
     "output_type": "stream",
     "text": [
      "U_train dims are: (56000, 128)\n",
      "S_train dims are (128, 128)\n",
      "Vt_train dims are (128, 784)\n"
     ]
    },
    {
     "data": {
      "image/png": "[encoded data removed]",
      "text/plain": [
       "<Figure size 1000x200 with 5 Axes>"
      ]
     },
     "metadata": {},
     "output_type": "display_data"
    }
   ],
   "source": [
    "n_components = 128\n",
    "\n",
    "X_train_svd, X_test_svd  = apply_svd_custom(X_train, X_test, n_components)\n",
    "first_five_images = X_train_svd[:5]\n",
    "\n",
    "fig, axes = plt.subplots(1, 5, figsize=(10, 2))\n",
    "for i in range(5):\n",
    "    image = np.array(first_five_images[i]).reshape(28, 28)\n",
    "    \n",
    "    axes[i].imshow(image)\n",
    "    axes[i].axis('off')\n",
    "\n",
    "plt.show()"
   ]
  },
  {
   "cell_type": "code",
   "execution_count": 62,
   "id": "e9c4db61",
   "metadata": {},
   "outputs": [
    {
     "name": "stdout",
     "output_type": "stream",
     "text": [
      "U_train dims are: (56000, 64)\n",
      "S_train dims are (64, 64)\n",
      "Vt_train dims are (64, 784)\n"
     ]
    },
    {
     "data": {
      "image/png": "[encoded data removed]",
      "text/plain": [
       "<Figure size 1000x200 with 5 Axes>"
      ]
     },
     "metadata": {},
     "output_type": "display_data"
    }
   ],
   "source": [
    "n_components = 64\n",
    "\n",
    "X_train_svd, X_test_svd  = apply_svd_custom(X_train, X_test, n_components)\n",
    "first_five_images = X_train_svd[:5]\n",
    "\n",
    "fig, axes = plt.subplots(1, 5, figsize=(10, 2))\n",
    "for i in range(5):\n",
    "    image = np.array(first_five_images[i]).reshape(28, 28)\n",
    "    \n",
    "    axes[i].imshow(image)\n",
    "    axes[i].axis('off')\n",
    "\n",
    "plt.show()"
   ]
  },
  {
   "cell_type": "code",
   "execution_count": 63,
   "id": "af5a07cb",
   "metadata": {},
   "outputs": [
    {
     "name": "stdout",
     "output_type": "stream",
     "text": [
      "U_train dims are: (56000, 32)\n",
      "S_train dims are (32, 32)\n",
      "Vt_train dims are (32, 784)\n"
     ]
    },
    {
     "data": {
      "image/png": "[encoded data removed]",
      "text/plain": [
       "<Figure size 1000x200 with 5 Axes>"
      ]
     },
     "metadata": {},
     "output_type": "display_data"
    }
   ],
   "source": [
    "n_components = 32\n",
    "\n",
    "X_train_svd, X_test_svd  = apply_svd_custom(X_train, X_test, n_components)\n",
    "first_five_images = X_train_svd[:5]\n",
    "\n",
    "fig, axes = plt.subplots(1, 5, figsize=(10, 2))\n",
    "for i in range(5):\n",
    "    image = np.array(first_five_images[i]).reshape(28, 28)\n",
    "    \n",
    "    axes[i].imshow(image)\n",
    "    axes[i].axis('off')\n",
    "\n",
    "plt.show()"
   ]
  },
  {
   "cell_type": "code",
   "execution_count": 64,
   "id": "1c983dd3",
   "metadata": {},
   "outputs": [
    {
     "name": "stdout",
     "output_type": "stream",
     "text": [
      "U_train dims are: (56000, 16)\n",
      "S_train dims are (16, 16)\n",
      "Vt_train dims are (16, 784)\n"
     ]
    },
    {
     "data": {
      "image/png": "[encoded data removed]",
      "text/plain": [
       "<Figure size 1000x200 with 5 Axes>"
      ]
     },
     "metadata": {},
     "output_type": "display_data"
    }
   ],
   "source": [
    "n_components = 16\n",
    "\n",
    "X_train_svd, X_test_svd  = apply_svd_custom(X_train, X_test, n_components)\n",
    "first_five_images = X_train_svd[:5]\n",
    "\n",
    "fig, axes = plt.subplots(1, 5, figsize=(10, 2))\n",
    "for i in range(5):\n",
    "    image = np.array(first_five_images[i]).reshape(28, 28)\n",
    "    \n",
    "    axes[i].imshow(image)\n",
    "    axes[i].axis('off')\n",
    "\n",
    "plt.show()"
   ]
  },
  {
   "cell_type": "code",
   "execution_count": 65,
   "id": "c8f56893",
   "metadata": {},
   "outputs": [
    {
     "name": "stdout",
     "output_type": "stream",
     "text": [
      "U_train dims are: (56000, 4)\n",
      "S_train dims are (4, 4)\n",
      "Vt_train dims are (4, 784)\n"
     ]
    },
    {
     "data": {
      "image/png": "[encoded data removed]",
      "text/plain": [
       "<Figure size 1000x200 with 5 Axes>"
      ]
     },
     "metadata": {},
     "output_type": "display_data"
    }
   ],
   "source": [
    "n_components = 4\n",
    "\n",
    "X_train_svd, X_test_svd  = apply_svd_custom(X_train, X_test, n_components)\n",
    "first_five_images = X_train_svd[:5]\n",
    "\n",
    "fig, axes = plt.subplots(1, 5, figsize=(10, 2))\n",
    "for i in range(5):\n",
    "    image = np.array(first_five_images[i]).reshape(28, 28)\n",
    "    \n",
    "    axes[i].imshow(image)\n",
    "    axes[i].axis('off')\n",
    "\n",
    "plt.show()"
   ]
  },
  {
   "cell_type": "code",
   "execution_count": 66,
   "id": "46eddfdf",
   "metadata": {},
   "outputs": [
    {
     "name": "stdout",
     "output_type": "stream",
     "text": [
      "U_train dims are: (56000, 2)\n",
      "S_train dims are (2, 2)\n",
      "Vt_train dims are (2, 784)\n"
     ]
    },
    {
     "data": {
      "image/png": "[encoded data removed]",
      "text/plain": [
       "<Figure size 1000x200 with 5 Axes>"
      ]
     },
     "metadata": {},
     "output_type": "display_data"
    }
   ],
   "source": [
    "n_components = 2\n",
    "\n",
    "X_train_svd, X_test_svd  = apply_svd_custom(X_train, X_test, n_components)\n",
    "first_five_images = X_train_svd[:5]\n",
    "\n",
    "fig, axes = plt.subplots(1, 5, figsize=(10, 2))\n",
    "for i in range(5):\n",
    "    image = np.array(first_five_images[i]).reshape(28, 28)\n",
    "    \n",
    "    axes[i].imshow(image)\n",
    "    axes[i].axis('off')\n",
    "\n",
    "plt.show()"
   ]
  },
  {
   "cell_type": "markdown",
   "id": "4210569a",
   "metadata": {},
   "source": [
    "## Part 6: Analyze / Conclusion \n",
    "\n",
    "YOUR ANSWER: "
   ]
  },
  {
   "cell_type": "markdown",
   "id": "d47f043c",
   "metadata": {},
   "source": [
    "As expected, lower n_components, or SVD ranks, lead to less accurate results but less training time. Lower ranks meant images have lower resolution, as shown by the visual images, and it is harder to distinguish characteristics of each number. However, increasing rank will only increase accuracy at a certain rate, before improvements diminish, which we can see after n_components=512, the marginal improvements decreases, meaning there is an ideal trade-off between time and accuracy at that point. We also see this point clearly, as the images look best at around ranks higher than 384, and gets indistinguishable very fast."
   ]
  },
  {
   "cell_type": "markdown",
   "id": "e3300fa7",
   "metadata": {},
   "source": []
  }
 ],
 "metadata": {
  "kernelspec": {
   "display_name": "Python 3",
   "language": "python",
   "name": "python3"
  },
  "language_info": {
   "codemirror_mode": {
    "name": "ipython",
    "version": 3
   },
   "file_extension": ".py",
   "mimetype": "text/x-python",
   "name": "python",
   "nbconvert_exporter": "python",
   "pygments_lexer": "ipython3",
   "version": "3.10.15"
  }
 },
 "nbformat": 4,
 "nbformat_minor": 5
}
